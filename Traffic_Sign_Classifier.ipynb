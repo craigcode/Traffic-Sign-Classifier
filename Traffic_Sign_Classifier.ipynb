{
 "cells": [
  {
   "cell_type": "markdown",
   "metadata": {},
   "source": [
    "# Self-Driving Car Engineer Nanodegree\n",
    "\n",
    "## Deep Learning\n",
    "\n",
    "## Project: Build a Traffic Sign Recognition Classifier\n",
    "\n",
    "In this notebook, a template is provided for you to implement your functionality in stages, which is required to successfully complete this project. If additional code is required that cannot be included in the notebook, be sure that the Python code is successfully imported and included in your submission if necessary. \n",
    "\n",
    "> **Note**: Once you have completed all of the code implementations, you need to finalize your work by exporting the iPython Notebook as an HTML document. Before exporting the notebook to html, all of the code cells need to have been run so that reviewers can see the final implementation and output. You can then export the notebook by using the menu above and navigating to  \\n\",\n",
    "    \"**File -> Download as -> HTML (.html)**. Include the finished document along with this notebook as your submission. \n",
    "\n",
    "In addition to implementing code, there is a writeup to complete. The writeup should be completed in a separate file, which can be either a markdown file or a pdf document. There is a [write up template](https://github.com/udacity/CarND-Traffic-Sign-Classifier-Project/blob/master/writeup_template.md) that can be used to guide the writing process. Completing the code template and writeup template will cover all of the [rubric points](https://review.udacity.com/#!/rubrics/481/view) for this project.\n",
    "\n",
    "The [rubric](https://review.udacity.com/#!/rubrics/481/view) contains \"Stand Out Suggestions\" for enhancing the project beyond the minimum requirements. The stand out suggestions are optional. If you decide to pursue the \"stand out suggestions\", you can include the code in this Ipython notebook and also discuss the results in the writeup file.\n",
    "\n",
    "\n",
    ">**Note:** Code and Markdown cells can be executed using the **Shift + Enter** keyboard shortcut. In addition, Markdown cells can be edited by typically double-clicking the cell to enter edit mode."
   ]
  },
  {
   "cell_type": "markdown",
   "metadata": {},
   "source": [
    "---\n",
    "## Step 0: Load The Data"
   ]
  },
  {
   "cell_type": "code",
   "execution_count": 1,
   "metadata": {},
   "outputs": [
    {
     "name": "stdout",
     "output_type": "stream",
     "text": [
      "Data loaded\n"
     ]
    }
   ],
   "source": [
    "# Load pickled data\n",
    "import pickle\n",
    "\n",
    "# TODO: Fill this in based on where you saved the training and testing data\n",
    "\n",
    "data_dir = './traffic-signs-data/'\n",
    "\n",
    "training_file = data_dir + 'train.p'\n",
    "validation_file= data_dir + 'valid.p'\n",
    "testing_file = data_dir + 'test.p'\n",
    "\n",
    "with open(training_file, mode='rb') as f:\n",
    "    train = pickle.load(f)\n",
    "with open(validation_file, mode='rb') as f:\n",
    "    valid = pickle.load(f)\n",
    "with open(testing_file, mode='rb') as f:\n",
    "    test = pickle.load(f)\n",
    "    \n",
    "X_train, y_train = train['features'], train['labels']\n",
    "X_valid, y_valid = valid['features'], valid['labels']\n",
    "X_test, y_test = test['features'], test['labels']\n",
    "\n",
    "print(\"Data loaded\")"
   ]
  },
  {
   "cell_type": "markdown",
   "metadata": {},
   "source": [
    "---\n",
    "\n",
    "## Step 1: Dataset Summary & Exploration\n",
    "\n",
    "The pickled data is a dictionary with 4 key/value pairs:\n",
    "\n",
    "- `'features'` is a 4D array containing raw pixel data of the traffic sign images, (num examples, width, height, channels).\n",
    "- `'labels'` is a 1D array containing the label/class id of the traffic sign. The file `signnames.csv` contains id -> name mappings for each id.\n",
    "- `'sizes'` is a list containing tuples, (width, height) representing the original width and height the image.\n",
    "- `'coords'` is a list containing tuples, (x1, y1, x2, y2) representing coordinates of a bounding box around the sign in the image. **THESE COORDINATES ASSUME THE ORIGINAL IMAGE. THE PICKLED DATA CONTAINS RESIZED VERSIONS (32 by 32) OF THESE IMAGES**\n",
    "\n",
    "Complete the basic data summary below. Use python, numpy and/or pandas methods to calculate the data summary rather than hard coding the results. For example, the [pandas shape method](http://pandas.pydata.org/pandas-docs/stable/generated/pandas.DataFrame.shape.html) might be useful for calculating some of the summary results. "
   ]
  },
  {
   "cell_type": "markdown",
   "metadata": {},
   "source": [
    "### Provide a Basic Summary of the Data Set Using Python, Numpy and/or Pandas"
   ]
  },
  {
   "cell_type": "code",
   "execution_count": 2,
   "metadata": {},
   "outputs": [
    {
     "name": "stdout",
     "output_type": "stream",
     "text": [
      "Number of training examples = 34799\n",
      "Number of validation examples = 4410\n",
      "Number of testing examples = 12630\n",
      "Image data shape = (32, 32, 3)\n",
      "Number of classes = 43\n"
     ]
    }
   ],
   "source": [
    "### Replace each question mark with the appropriate value. \n",
    "### Use python, pandas or numpy methods rather than hard coding the results\n",
    "\n",
    "import numpy as np\n",
    "\n",
    "# TODO: Number of training examples\n",
    "n_train = len(X_train)\n",
    "\n",
    "# TODO: Number of validation examples\n",
    "n_validation = len(X_valid)\n",
    "\n",
    "# TODO: Number of testing examples.\n",
    "n_test = len(X_test)\n",
    "\n",
    "# TODO: What's the shape of an traffic sign image?\n",
    "image_shape = X_train[0].shape\n",
    "\n",
    "# TODO: How many unique classes/labels there are in the dataset.\n",
    "n_classes = len(np.unique(y_train))\n",
    "\n",
    "print(\"Number of training examples =\", n_train)\n",
    "print(\"Number of validation examples =\", n_validation)\n",
    "print(\"Number of testing examples =\", n_test)\n",
    "\n",
    "print(\"Image data shape =\", image_shape)\n",
    "print(\"Number of classes =\", n_classes)"
   ]
  },
  {
   "cell_type": "markdown",
   "metadata": {},
   "source": [
    "### Include an exploratory visualization of the dataset"
   ]
  },
  {
   "cell_type": "markdown",
   "metadata": {},
   "source": [
    "Visualize the German Traffic Signs Dataset using the pickled file(s). This is open ended, suggestions include: plotting traffic sign images, plotting the count of each sign, etc. \n",
    "\n",
    "The [Matplotlib](http://matplotlib.org/) [examples](http://matplotlib.org/examples/index.html) and [gallery](http://matplotlib.org/gallery.html) pages are a great resource for doing visualizations in Python.\n",
    "\n",
    "**NOTE:** It's recommended you start with something simple first. If you wish to do more, come back to it after you've completed the rest of the sections. It can be interesting to look at the distribution of classes in the training, validation and test set. Is the distribution the same? Are there more examples of some classes than others?"
   ]
  },
  {
   "cell_type": "code",
   "execution_count": 3,
   "metadata": {},
   "outputs": [
    {
     "name": "stdout",
     "output_type": "stream",
     "text": [
      "Sign name labels loaded\n"
     ]
    }
   ],
   "source": [
    "## Load sign names CSV for dataset visualization\n",
    "\n",
    "import csv\n",
    "\n",
    "def load_traffic_sign_names(csvfile):\n",
    "    sign_names = dict()\n",
    "    with open(csvfile, 'r') as f:\n",
    "        for line in f.readlines():\n",
    "            array = line.split(',')\n",
    "            sign_names[array[0]] = array[1].rstrip()\n",
    "    return sign_names\n",
    "        \n",
    "sign_names = load_traffic_sign_names(\"./signnames.csv\")\n",
    "\n",
    "print(\"Sign name labels loaded\")"
   ]
  },
  {
   "cell_type": "code",
   "execution_count": 4,
   "metadata": {},
   "outputs": [
    {
     "name": "stdout",
     "output_type": "stream",
     "text": [
      "Random Sample Images from Training Dataset\n"
     ]
    },
    {
     "data": {
      "image/png": "[encoded data removed]",
      "text/plain": [
       "<matplotlib.figure.Figure at 0x124ce9828>"
      ]
     },
     "metadata": {},
     "output_type": "display_data"
    }
   ],
   "source": [
    "### Data exploration visualization code goes here.\n",
    "### Feel free to use as many code cells as needed.\n",
    "import matplotlib.pyplot as plt\n",
    "import random\n",
    "\n",
    "print(\"Random Sample Images from Training Dataset\")\n",
    "\n",
    "# Visualizations will be shown in the notebook.\n",
    "%matplotlib inline\n",
    "\n",
    "fig, axs = plt.subplots(nrows=4, ncols=1, figsize=(8, 8))\n",
    "fig.subplots_adjust(hspace = 1, wspace=.5)\n",
    "axs = axs.ravel()\n",
    "\n",
    "for i in range(4):\n",
    "    index = random.randint(0, len(X_train)-1)\n",
    "    image = X_train[index]\n",
    "    axs[i].axis('off')\n",
    "    axs[i].set_title(\"Image:{} - {}\".format(index,sign_names[str(y_train[index])]))\n",
    "    axs[i].imshow(image)\n"
   ]
  },
  {
   "cell_type": "code",
   "execution_count": 5,
   "metadata": {},
   "outputs": [
    {
     "name": "stdout",
     "output_type": "stream",
     "text": [
      "Number of training examples = 34799\n",
      "Number of testing examples = 12630\n",
      "Number of classes = 43\n"
     ]
    },
    {
     "data": {
      "image/png": "[encoded data removed]",
      "text/plain": [
       "<matplotlib.figure.Figure at 0x111a5c0f0>"
      ]
     },
     "metadata": {},
     "output_type": "display_data"
    }
   ],
   "source": [
    "fig, (ax1, ax2) = plt.subplots(nrows=1, ncols=2)\n",
    "\n",
    "bins = range(n_classes + 1)\n",
    "ax1.hist(y_train, bins)\n",
    "ax1.set_title('Training Dataset Distribution by Class', fontsize=10)\n",
    "\n",
    "ax2.hist(y_test, bins)\n",
    "ax2.set_title('Test Dataset Distribution by Class', fontsize=10)\n",
    "\n",
    "plt.tight_layout()\n",
    "\n",
    "print(\"Number of training examples =\", n_train)\n",
    "print(\"Number of testing examples =\", n_test)\n",
    "print(\"Number of classes =\", n_classes) "
   ]
  },
  {
   "cell_type": "markdown",
   "metadata": {},
   "source": [
    "----\n",
    "\n",
    "## Step 2: Design and Test a Model Architecture\n",
    "\n",
    "Design and implement a deep learning model that learns to recognize traffic signs. Train and test your model on the [German Traffic Sign Dataset](http://benchmark.ini.rub.de/?section=gtsrb&subsection=dataset).\n",
    "\n",
    "The LeNet-5 implementation shown in the [classroom](https://classroom.udacity.com/nanodegrees/nd013/parts/fbf77062-5703-404e-b60c-95b78b2f3f9e/modules/6df7ae49-c61c-4bb2-a23e-6527e69209ec/lessons/601ae704-1035-4287-8b11-e2c2716217ad/concepts/d4aca031-508f-4e0b-b493-e7b706120f81) at the end of the CNN lesson is a solid starting point. You'll have to change the number of classes and possibly the preprocessing, but aside from that it's plug and play! \n",
    "\n",
    "With the LeNet-5 solution from the lecture, you should expect a validation set accuracy of about 0.89. To meet specifications, the validation set accuracy will need to be at least 0.93. It is possible to get an even higher accuracy, but 0.93 is the minimum for a successful project submission. \n",
    "\n",
    "There are various aspects to consider when thinking about this problem:\n",
    "\n",
    "- Neural network architecture (is the network over or underfitting?)\n",
    "- Play around preprocessing techniques (normalization, rgb to grayscale, etc)\n",
    "- Number of examples per label (some have more than others).\n",
    "- Generate fake data.\n",
    "\n",
    "Here is an example of a [published baseline model on this problem](http://yann.lecun.com/exdb/publis/pdf/sermanet-ijcnn-11.pdf). It's not required to be familiar with the approach used in the paper but, it's good practice to try to read papers like these."
   ]
  },
  {
   "cell_type": "markdown",
   "metadata": {},
   "source": [
    "### Pre-process the Data Set (normalization, grayscale, etc.)"
   ]
  },
  {
   "cell_type": "markdown",
   "metadata": {},
   "source": [
    "Minimally, the image data should be normalized so that the data has mean zero and equal variance. For image data, `(pixel - 128)/ 128` is a quick way to approximately normalize the data and can be used in this project. \n",
    "\n",
    "Other pre-processing steps are optional. You can try different techniques to see if it improves performance. \n",
    "\n",
    "Use the code cell (or multiple code cells, if necessary) to implement the first step of your project."
   ]
  },
  {
   "cell_type": "code",
   "execution_count": 6,
   "metadata": {},
   "outputs": [],
   "source": [
    "### Preprocess the data here. It is required to normalize the data. Other preprocessing steps could include \n",
    "### converting to grayscale, etc.\n",
    "### Feel free to use as many code cells as needed.\n",
    "\n",
    "def grayscale_imageset(imgs):\n",
    "    return np.sum(imgs/3, axis=3, keepdims=True)\n",
    "\n",
    "def normalize_imageset(imgs):\n",
    "    return (imgs/127.5) - 1 "
   ]
  },
  {
   "cell_type": "code",
   "execution_count": 7,
   "metadata": {},
   "outputs": [
    {
     "name": "stdout",
     "output_type": "stream",
     "text": [
      "Original color image shape: (34799, 32, 32, 3)\n",
      "Converted grayscale image shape: (34799, 32, 32, 1)\n"
     ]
    }
   ],
   "source": [
    "print(\"Original color image shape:\", X_train.shape)\n",
    "\n",
    "# Convert to grayscale\n",
    "X_train = grayscale_imageset(X_train)\n",
    "X_valid = grayscale_imageset(X_valid)\n",
    "X_test = grayscale_imageset(X_test)\n",
    "\n",
    "input_color_channels = 1\n",
    "\n",
    "print(\"Converted grayscale image shape:\", X_train.shape)"
   ]
  },
  {
   "cell_type": "code",
   "execution_count": 8,
   "metadata": {},
   "outputs": [
    {
     "name": "stdout",
     "output_type": "stream",
     "text": [
      "Train and test data normalized\n"
     ]
    }
   ],
   "source": [
    "## Normalize the train and test datasets\n",
    "\n",
    "X_train = normalize_imageset(X_train) \n",
    "X_test = normalize_imageset(X_test) \n",
    "\n",
    "print(\"Train and test data normalized\")\n"
   ]
  },
  {
   "cell_type": "code",
   "execution_count": 9,
   "metadata": {},
   "outputs": [],
   "source": [
    "import cv2\n",
    "\n",
    "def image_translate(img):\n",
    "    rows,cols,ch = img.shape\n",
    "    \n",
    "    shift = 3\n",
    "    dx = np.random.randint(-shift,shift)\n",
    "    dy = np.random.randint(-shift,shift)\n",
    "\n",
    "    M = np.float32([[1,0,dx],[0,1,dy]])\n",
    "    newimg = cv2.warpAffine(img,M,(cols,rows))\n",
    "    newimg = newimg[:,:,np.newaxis]\n",
    "    \n",
    "    return newimg\n",
    "\n",
    "def image_scale(img):   \n",
    "    rows,cols,ch = img.shape\n",
    "\n",
    "    shift = 2\n",
    "    px = np.random.randint(-shift,shift)\n",
    "    pts1 = np.float32([[px,px],[rows-px,px],[px,cols-px],[rows-px,cols-px]])\n",
    "    pts2 = np.float32([[0,0],[rows,0],[0,cols],[rows,cols]])\n",
    "\n",
    "    M = cv2.getPerspectiveTransform(pts1,pts2)\n",
    "    newimg = cv2.warpPerspective(img,M,(rows,cols))\n",
    "    \n",
    "    newimg = newimg[:,:,np.newaxis]\n",
    "    \n",
    "    return newimg\n",
    "\n",
    "def image_brightness(img):\n",
    "    shift = img + 1.0   \n",
    "    img_max_value = max(shift.flatten())\n",
    "    max_coef = 2.0/img_max_value\n",
    "    min_coef = max_coef - 0.1\n",
    "    coef = np.random.uniform(min_coef, max_coef)\n",
    "    newimg = shift * coef - 1.0\n",
    "    return newimg\n",
    "\n",
    "def augment(img):\n",
    "    return image_brightness(image_translate(image_scale(img)))"
   ]
  },
  {
   "cell_type": "code",
   "execution_count": 10,
   "metadata": {},
   "outputs": [
    {
     "name": "stdout",
     "output_type": "stream",
     "text": [
      "[Before] Training data shape: (34799, 32, 32, 1) (34799,)\n",
      "Augmenting data... 42 / 43 classes complete.\n",
      "Done\n",
      "[After] Augmented Training Data shape: (51690, 32, 32, 1) (51690,)\n"
     ]
    }
   ],
   "source": [
    "# Augment data up to min for each class\n",
    "import sys\n",
    "\n",
    "print(\"[Before] Training data shape:\", X_train.shape, y_train.shape)\n",
    "\n",
    "min_sample_size = 1000\n",
    "\n",
    "for img_class in range(n_classes):\n",
    "\n",
    "    print(\"Augmenting data... {} / {} classes complete.\".format(img_class,n_classes), end='\\r')\n",
    "    sys.stdout.flush()\n",
    "    \n",
    "    class_items = np.where(y_train == img_class)\n",
    "    class_count = len(class_items[0])\n",
    "    \n",
    "    if class_count < min_sample_size:\n",
    "        for i in range(min_sample_size - class_count):\n",
    "            \n",
    "            img = X_train[class_items[0][i % class_count]]\n",
    "            new_img = augment(img)\n",
    "                        \n",
    "            X_train = np.concatenate((X_train, [new_img]), axis=0)\n",
    "            y_train = np.concatenate((y_train, [img_class]), axis=0)\n",
    "            \n",
    "print()\n",
    "print(\"Done\")\n",
    "print(\"[After] Augmented Training Data shape:\", X_train.shape, y_train.shape)"
   ]
  },
  {
   "cell_type": "code",
   "execution_count": 11,
   "metadata": {},
   "outputs": [],
   "source": [
    "# Shuffle data\n",
    "\n",
    "from sklearn.utils import shuffle\n",
    "\n",
    "X_train, y_train = shuffle(X_train, y_train)"
   ]
  },
  {
   "cell_type": "markdown",
   "metadata": {},
   "source": [
    "### Model Architecture"
   ]
  },
  {
   "cell_type": "code",
   "execution_count": 12,
   "metadata": {},
   "outputs": [],
   "source": [
    "### Define your architecture here.\n",
    "### Feel free to use as many code cells as needed."
   ]
  },
  {
   "cell_type": "code",
   "execution_count": 21,
   "metadata": {},
   "outputs": [],
   "source": [
    "import tensorflow as tf\n",
    "\n",
    "EPOCHS = 200\n",
    "BATCH_SIZE = 128\n",
    "\n",
    "traffic_sign_chkpt = './traffic-sign-classifier'"
   ]
  },
  {
   "cell_type": "code",
   "execution_count": 22,
   "metadata": {},
   "outputs": [],
   "source": [
    "# solution built in LeNet Lab with modification for 43 classes and grayscale images\n",
    "\n",
    "from tensorflow.contrib.layers import flatten\n",
    "\n",
    "def LeNet(x,input_color_channels):    \n",
    "    # Arguments used for tf.truncated_normal, randomly defines variables for the weights and biases for each layer\n",
    "    mu = 0\n",
    "    sigma = 0.1\n",
    "    \n",
    "    # SOLUTION: Layer 1: Convolutional. Input = 32x32xc Output = 28x28x6.\n",
    "    conv1_W = tf.Variable(tf.truncated_normal(shape=(5, 5, input_color_channels, 6), mean = mu, stddev = sigma))\n",
    "    conv1_b = tf.Variable(tf.zeros(6))\n",
    "    conv1   = tf.nn.conv2d(x, conv1_W, strides=[1, 1, 1, 1], padding='VALID') + conv1_b\n",
    "\n",
    "    # SOLUTION: Activation.\n",
    "    conv1 = tf.nn.relu(conv1)\n",
    "\n",
    "    # SOLUTION: Pooling. Input = 28x28x6. Output = 14x14x6.\n",
    "    conv1 = tf.nn.max_pool(conv1, ksize=[1, 2, 2, 1], strides=[1, 2, 2, 1], padding='VALID')\n",
    "\n",
    "    # SOLUTION: Layer 2: Convolutional. Output = 10x10x16.\n",
    "    conv2_W = tf.Variable(tf.truncated_normal(shape=(5, 5, 6, 16), mean = mu, stddev = sigma))\n",
    "    conv2_b = tf.Variable(tf.zeros(16))\n",
    "    conv2   = tf.nn.conv2d(conv1, conv2_W, strides=[1, 1, 1, 1], padding='VALID') + conv2_b\n",
    "    \n",
    "    # SOLUTION: Activation.\n",
    "    conv2 = tf.nn.relu(conv2)\n",
    "\n",
    "    # SOLUTION: Pooling. Input = 10x10x16. Output = 5x5x16.\n",
    "    conv2 = tf.nn.max_pool(conv2, ksize=[1, 2, 2, 1], strides=[1, 2, 2, 1], padding='VALID')\n",
    "\n",
    "    # SOLUTION: Flatten. Input = 5x5x16. Output = 400.\n",
    "    fc0   = flatten(conv2)\n",
    "    \n",
    "    # SOLUTION: Layer 3: Fully Connected. Input = 400. Output = 120.\n",
    "    fc1_W = tf.Variable(tf.truncated_normal(shape=(400, 120), mean = mu, stddev = sigma))\n",
    "    fc1_b = tf.Variable(tf.zeros(120))\n",
    "    fc1   = tf.matmul(fc0, fc1_W) + fc1_b\n",
    "    \n",
    "    # SOLUTION: Activation.\n",
    "    fc1    = tf.nn.relu(fc1)  \n",
    "\n",
    "    # Dropout\n",
    "    fc1 = tf.nn.dropout(fc1, keep_prob)\n",
    "    \n",
    "    # SOLUTION: Layer 4: Fully Connected. Input = 120. Output = 84.\n",
    "    fc2_W  = tf.Variable(tf.truncated_normal(shape=(120, 84), mean = mu, stddev = sigma))\n",
    "    fc2_b  = tf.Variable(tf.zeros(84))\n",
    "    fc2    = tf.matmul(fc1, fc2_W) + fc2_b\n",
    "    \n",
    "    # SOLUTION: Activation.\n",
    "    fc2    = tf.nn.relu(fc2)\n",
    "    \n",
    "    # Dropout\n",
    "    fc2 = tf.nn.dropout(fc2, keep_prob)\n",
    "\n",
    "    # SOLUTION: Layer 5: Fully Connected. Input = 84. Output = 43.\n",
    "    fc3_W  = tf.Variable(tf.truncated_normal(shape=(84, 43), mean = mu, stddev = sigma))\n",
    "    fc3_b  = tf.Variable(tf.zeros(43))\n",
    "    logits = tf.matmul(fc2, fc3_W) + fc3_b\n",
    "    \n",
    "    return logits"
   ]
  },
  {
   "cell_type": "markdown",
   "metadata": {},
   "source": [
    "### Train, Validate and Test the Model"
   ]
  },
  {
   "cell_type": "markdown",
   "metadata": {},
   "source": [
    "A validation set can be used to assess how well the model is performing. A low accuracy on the training and validation\n",
    "sets imply underfitting. A high accuracy on the training set but low accuracy on the validation set implies overfitting."
   ]
  },
  {
   "cell_type": "code",
   "execution_count": 23,
   "metadata": {},
   "outputs": [],
   "source": [
    "### Train your model here.\n",
    "### Calculate and report the accuracy on the training and validation set.\n",
    "### Once a final model architecture is selected, \n",
    "### the accuracy on the test set should be calculated and reported as well.\n",
    "### Feel free to use as many code cells as needed."
   ]
  },
  {
   "cell_type": "code",
   "execution_count": 24,
   "metadata": {},
   "outputs": [],
   "source": [
    "x = tf.placeholder(tf.float32, (None, 32, 32, input_color_channels))\n",
    "y = tf.placeholder(tf.int32, (None))\n",
    "one_hot_y = tf.one_hot(y, 43)\n",
    "keep_prob = tf.placeholder(tf.float32)"
   ]
  },
  {
   "cell_type": "code",
   "execution_count": 25,
   "metadata": {},
   "outputs": [],
   "source": [
    "rate = 0.001\n",
    "\n",
    "logits = LeNet(x, input_color_channels)\n",
    "cross_entropy = tf.nn.softmax_cross_entropy_with_logits(labels=one_hot_y, logits=logits)\n",
    "loss_operation = tf.reduce_mean(cross_entropy)\n",
    "optimizer = tf.train.AdamOptimizer(learning_rate = rate)\n",
    "training_operation = optimizer.minimize(loss_operation)"
   ]
  },
  {
   "cell_type": "code",
   "execution_count": 26,
   "metadata": {},
   "outputs": [],
   "source": [
    "correct_prediction = tf.equal(tf.argmax(logits, 1), tf.argmax(one_hot_y, 1))\n",
    "accuracy_operation = tf.reduce_mean(tf.cast(correct_prediction, tf.float32))\n",
    "saver = tf.train.Saver()\n",
    "\n",
    "def evaluate(X_data, y_data):\n",
    "    num_examples = len(X_data)\n",
    "    total_accuracy = 0\n",
    "    sess = tf.get_default_session()\n",
    "    for offset in range(0, num_examples, BATCH_SIZE):\n",
    "        batch_x, batch_y = X_data[offset:offset+BATCH_SIZE], y_data[offset:offset+BATCH_SIZE]\n",
    "        accuracy = sess.run(accuracy_operation, feed_dict={x: batch_x, y: batch_y, keep_prob: 1.0})\n",
    "        total_accuracy += (accuracy * len(batch_x))\n",
    "    return total_accuracy / num_examples"
   ]
  },
  {
   "cell_type": "code",
   "execution_count": 27,
   "metadata": {},
   "outputs": [
    {
     "name": "stdout",
     "output_type": "stream",
     "text": [
      "Training...\n",
      "\n",
      "EPOCH 1: Training Accuracy = 0.633, Validation Accuracy = 0.586 *\n",
      "\n",
      "EPOCH 2: Training Accuracy = 0.818, Validation Accuracy = 0.722 *\n",
      "\n",
      "EPOCH 3: Training Accuracy = 0.863, Validation Accuracy = 0.805 *\n",
      "\n",
      "EPOCH 4: Training Accuracy = 0.906, Validation Accuracy = 0.854 *\n",
      "\n",
      "EPOCH 5: Training Accuracy = 0.924, Validation Accuracy = 0.857 *\n",
      "\n",
      "EPOCH 6: Training Accuracy = 0.939, Validation Accuracy = 0.890 *\n",
      "\n",
      "EPOCH 7: Training Accuracy = 0.946, Validation Accuracy = 0.906 *\n",
      "\n",
      "EPOCH 8: Training Accuracy = 0.958, Validation Accuracy = 0.914 *\n",
      "\n",
      "EPOCH 9: Training Accuracy = 0.964, Validation Accuracy = 0.907 \n",
      "\n",
      "EPOCH 10: Training Accuracy = 0.966, Validation Accuracy = 0.914 *\n",
      "\n",
      "EPOCH 11: Training Accuracy = 0.973, Validation Accuracy = 0.926 *\n",
      "\n",
      "EPOCH 12: Training Accuracy = 0.973, Validation Accuracy = 0.921 \n",
      "\n",
      "EPOCH 13: Training Accuracy = 0.975, Validation Accuracy = 0.928 *\n",
      "\n",
      "EPOCH 14: Training Accuracy = 0.979, Validation Accuracy = 0.928 *\n",
      "\n",
      "Model saved with Validation Accuracy: 0.9365079362916838\n",
      "EPOCH 15: Training Accuracy = 0.980, Validation Accuracy = 0.937 *\n",
      "\n",
      "Model saved with Validation Accuracy: 0.9376417233830406\n",
      "EPOCH 16: Training Accuracy = 0.979, Validation Accuracy = 0.938 *\n",
      "\n",
      "Model saved with Validation Accuracy: 0.9417233560361019\n",
      "EPOCH 17: Training Accuracy = 0.984, Validation Accuracy = 0.942 *\n",
      "\n",
      "EPOCH 18: Training Accuracy = 0.985, Validation Accuracy = 0.937 \n",
      "\n",
      "Model saved with Validation Accuracy: 0.9430839005241048\n",
      "EPOCH 19: Training Accuracy = 0.986, Validation Accuracy = 0.943 *\n",
      "\n",
      "EPOCH 20: Training Accuracy = 0.986, Validation Accuracy = 0.937 \n",
      "\n",
      "Model saved with Validation Accuracy: 0.9458049884458788\n",
      "EPOCH 21: Training Accuracy = 0.989, Validation Accuracy = 0.946 *\n",
      "\n",
      "Model saved with Validation Accuracy: 0.947165532663566\n",
      "EPOCH 22: Training Accuracy = 0.989, Validation Accuracy = 0.947 *\n",
      "\n",
      "EPOCH 23: Training Accuracy = 0.990, Validation Accuracy = 0.944 \n",
      "\n",
      "EPOCH 24: Training Accuracy = 0.989, Validation Accuracy = 0.946 \n",
      "\n",
      "Model saved with Validation Accuracy: 0.9537414964094184\n",
      "EPOCH 25: Training Accuracy = 0.990, Validation Accuracy = 0.954 *\n",
      "\n",
      "Model saved with Validation Accuracy: 0.9546485258608448\n",
      "EPOCH 26: Training Accuracy = 0.990, Validation Accuracy = 0.955 *\n",
      "\n",
      "EPOCH 27: Training Accuracy = 0.992, Validation Accuracy = 0.949 \n",
      "\n",
      "Model saved with Validation Accuracy: 0.9548752832304593\n",
      "EPOCH 28: Training Accuracy = 0.991, Validation Accuracy = 0.955 *\n",
      "\n",
      "EPOCH 29: Training Accuracy = 0.993, Validation Accuracy = 0.952 \n",
      "\n",
      "Model saved with Validation Accuracy: 0.9551020406000739\n",
      "EPOCH 30: Training Accuracy = 0.993, Validation Accuracy = 0.955 *\n",
      "\n",
      "EPOCH 31: Training Accuracy = 0.994, Validation Accuracy = 0.952 \n",
      "\n",
      "Model saved with Validation Accuracy: 0.9562358279887782\n",
      "EPOCH 32: Training Accuracy = 0.994, Validation Accuracy = 0.956 *\n",
      "\n",
      "Model saved with Validation Accuracy: 0.9582766440449929\n",
      "EPOCH 33: Training Accuracy = 0.995, Validation Accuracy = 0.958 *\n",
      "\n",
      "EPOCH 34: Training Accuracy = 0.994, Validation Accuracy = 0.956 \n",
      "\n",
      "EPOCH 35: Training Accuracy = 0.994, Validation Accuracy = 0.958 \n",
      "\n",
      "Model saved with Validation Accuracy: 0.9628117911669672\n",
      "EPOCH 36: Training Accuracy = 0.995, Validation Accuracy = 0.963 *\n",
      "\n",
      "EPOCH 37: Training Accuracy = 0.994, Validation Accuracy = 0.959 \n",
      "\n",
      "EPOCH 38: Training Accuracy = 0.995, Validation Accuracy = 0.960 \n",
      "\n",
      "EPOCH 39: Training Accuracy = 0.996, Validation Accuracy = 0.957 \n",
      "\n",
      "EPOCH 40: Training Accuracy = 0.996, Validation Accuracy = 0.958 \n",
      "\n",
      "EPOCH 41: Training Accuracy = 0.996, Validation Accuracy = 0.957 \n",
      "\n",
      "EPOCH 42: Training Accuracy = 0.996, Validation Accuracy = 0.956 \n",
      "\n",
      "EPOCH 43: Training Accuracy = 0.996, Validation Accuracy = 0.958 \n",
      "\n",
      "EPOCH 44: Training Accuracy = 0.995, Validation Accuracy = 0.953 \n",
      "\n",
      "EPOCH 45: Training Accuracy = 0.997, Validation Accuracy = 0.961 \n",
      "\n",
      "EPOCH 46: Training Accuracy = 0.997, Validation Accuracy = 0.956 \n",
      "\n",
      "EPOCH 47: Training Accuracy = 0.997, Validation Accuracy = 0.961 \n",
      "\n",
      "EPOCH 48: Training Accuracy = 0.997, Validation Accuracy = 0.956 \n",
      "\n",
      "EPOCH 49: Training Accuracy = 0.997, Validation Accuracy = 0.957 \n",
      "\n",
      "EPOCH 50: Training Accuracy = 0.996, Validation Accuracy = 0.959 \n",
      "\n",
      "EPOCH 51: Training Accuracy = 0.995, Validation Accuracy = 0.956 \n",
      "\n",
      "EPOCH 52: Training Accuracy = 0.996, Validation Accuracy = 0.960 \n",
      "\n",
      "EPOCH 53: Training Accuracy = 0.997, Validation Accuracy = 0.959 \n",
      "\n",
      "EPOCH 54: Training Accuracy = 0.997, Validation Accuracy = 0.954 \n",
      "\n",
      "EPOCH 55: Training Accuracy = 0.997, Validation Accuracy = 0.955 \n",
      "\n",
      "EPOCH 56: Training Accuracy = 0.997, Validation Accuracy = 0.956 \n",
      "\n",
      "EPOCH 57: Training Accuracy = 0.998, Validation Accuracy = 0.959 \n",
      "\n",
      "EPOCH 58: Training Accuracy = 0.997, Validation Accuracy = 0.963 \n",
      "\n",
      "EPOCH 59: Training Accuracy = 0.998, Validation Accuracy = 0.958 \n",
      "\n",
      "EPOCH 60: Training Accuracy = 0.997, Validation Accuracy = 0.961 \n",
      "\n",
      "EPOCH 61: Training Accuracy = 0.997, Validation Accuracy = 0.957 \n",
      "\n",
      "Model saved with Validation Accuracy: 0.9639455782853557\n",
      "EPOCH 62: Training Accuracy = 0.998, Validation Accuracy = 0.964 *\n",
      "\n",
      "Model saved with Validation Accuracy: 0.9646258504212308\n",
      "EPOCH 63: Training Accuracy = 0.997, Validation Accuracy = 0.965 *\n",
      "\n",
      "EPOCH 64: Training Accuracy = 0.998, Validation Accuracy = 0.963 \n",
      "\n",
      "EPOCH 65: Training Accuracy = 0.998, Validation Accuracy = 0.963 \n",
      "\n",
      "EPOCH 66: Training Accuracy = 0.998, Validation Accuracy = 0.962 \n",
      "\n",
      "EPOCH 67: Training Accuracy = 0.998, Validation Accuracy = 0.959 \n",
      "\n",
      "EPOCH 68: Training Accuracy = 0.998, Validation Accuracy = 0.964 \n",
      "\n",
      "EPOCH 69: Training Accuracy = 0.997, Validation Accuracy = 0.961 \n",
      "\n",
      "EPOCH 70: Training Accuracy = 0.998, Validation Accuracy = 0.957 \n",
      "\n",
      "EPOCH 71: Training Accuracy = 0.997, Validation Accuracy = 0.961 \n",
      "\n",
      "EPOCH 72: Training Accuracy = 0.998, Validation Accuracy = 0.964 \n",
      "\n",
      "EPOCH 73: Training Accuracy = 0.998, Validation Accuracy = 0.964 \n",
      "\n",
      "EPOCH 74: Training Accuracy = 0.998, Validation Accuracy = 0.962 \n",
      "\n",
      "EPOCH 75: Training Accuracy = 0.998, Validation Accuracy = 0.964 \n",
      "\n",
      "EPOCH 76: Training Accuracy = 0.999, Validation Accuracy = 0.959 \n",
      "\n",
      "EPOCH 77: Training Accuracy = 0.998, Validation Accuracy = 0.962 \n",
      "\n",
      "EPOCH 78: Training Accuracy = 0.999, Validation Accuracy = 0.959 \n",
      "\n",
      "EPOCH 79: Training Accuracy = 0.998, Validation Accuracy = 0.962 \n",
      "\n",
      "EPOCH 80: Training Accuracy = 0.998, Validation Accuracy = 0.962 \n",
      "\n",
      "EPOCH 81: Training Accuracy = 0.998, Validation Accuracy = 0.961 \n",
      "\n",
      "EPOCH 82: Training Accuracy = 0.998, Validation Accuracy = 0.958 \n",
      "\n",
      "Model saved with Validation Accuracy: 0.964852608007098\n",
      "EPOCH 83: Training Accuracy = 0.998, Validation Accuracy = 0.965 *\n",
      "\n",
      "EPOCH 84: Training Accuracy = 0.997, Validation Accuracy = 0.960 \n",
      "\n",
      "EPOCH 85: Training Accuracy = 0.997, Validation Accuracy = 0.951 \n",
      "\n",
      "EPOCH 86: Training Accuracy = 0.998, Validation Accuracy = 0.961 \n",
      "\n",
      "EPOCH 87: Training Accuracy = 0.999, Validation Accuracy = 0.961 \n",
      "\n",
      "EPOCH 88: Training Accuracy = 0.998, Validation Accuracy = 0.958 \n",
      "\n",
      "EPOCH 89: Training Accuracy = 0.998, Validation Accuracy = 0.961 \n",
      "\n",
      "EPOCH 90: Training Accuracy = 0.998, Validation Accuracy = 0.959 \n",
      "\n",
      "EPOCH 91: Training Accuracy = 0.999, Validation Accuracy = 0.961 \n",
      "\n",
      "EPOCH 92: Training Accuracy = 0.998, Validation Accuracy = 0.960 \n",
      "\n",
      "EPOCH 93: Training Accuracy = 0.999, Validation Accuracy = 0.960 \n",
      "\n",
      "EPOCH 94: Training Accuracy = 0.999, Validation Accuracy = 0.959 \n",
      "\n",
      "EPOCH 95: Training Accuracy = 0.998, Validation Accuracy = 0.957 \n",
      "\n",
      "EPOCH 96: Training Accuracy = 0.999, Validation Accuracy = 0.962 \n",
      "\n",
      "EPOCH 97: Training Accuracy = 0.999, Validation Accuracy = 0.961 \n",
      "\n",
      "EPOCH 98: Training Accuracy = 0.998, Validation Accuracy = 0.958 \n",
      "\n",
      "EPOCH 99: Training Accuracy = 0.999, Validation Accuracy = 0.962 \n",
      "\n",
      "EPOCH 100: Training Accuracy = 0.999, Validation Accuracy = 0.963 \n",
      "\n",
      "EPOCH 101: Training Accuracy = 0.998, Validation Accuracy = 0.963 \n",
      "\n",
      "EPOCH 102: Training Accuracy = 0.998, Validation Accuracy = 0.958 \n",
      "\n",
      "EPOCH 103: Training Accuracy = 0.999, Validation Accuracy = 0.963 \n",
      "\n",
      "EPOCH 104: Training Accuracy = 0.999, Validation Accuracy = 0.958 \n",
      "\n",
      "EPOCH 105: Training Accuracy = 0.999, Validation Accuracy = 0.959 \n",
      "\n",
      "EPOCH 106: Training Accuracy = 0.998, Validation Accuracy = 0.958 \n",
      "\n",
      "EPOCH 107: Training Accuracy = 0.999, Validation Accuracy = 0.959 \n",
      "\n",
      "EPOCH 108: Training Accuracy = 0.999, Validation Accuracy = 0.954 \n",
      "\n",
      "EPOCH 109: Training Accuracy = 0.999, Validation Accuracy = 0.950 \n",
      "\n"
     ]
    },
    {
     "name": "stdout",
     "output_type": "stream",
     "text": [
      "EPOCH 110: Training Accuracy = 0.998, Validation Accuracy = 0.960 \n",
      "\n",
      "Model saved with Validation Accuracy: 0.9662131519815008\n",
      "EPOCH 111: Training Accuracy = 0.999, Validation Accuracy = 0.966 *\n",
      "\n",
      "EPOCH 112: Training Accuracy = 0.999, Validation Accuracy = 0.962 \n",
      "\n",
      "EPOCH 113: Training Accuracy = 0.999, Validation Accuracy = 0.954 \n",
      "\n",
      "EPOCH 114: Training Accuracy = 0.999, Validation Accuracy = 0.961 \n",
      "\n",
      "EPOCH 115: Training Accuracy = 0.999, Validation Accuracy = 0.964 \n",
      "\n",
      "EPOCH 116: Training Accuracy = 0.999, Validation Accuracy = 0.963 \n",
      "\n",
      "EPOCH 117: Training Accuracy = 0.999, Validation Accuracy = 0.965 \n",
      "\n",
      "EPOCH 118: Training Accuracy = 0.999, Validation Accuracy = 0.960 \n",
      "\n",
      "EPOCH 119: Training Accuracy = 0.998, Validation Accuracy = 0.961 \n",
      "\n",
      "EPOCH 120: Training Accuracy = 0.998, Validation Accuracy = 0.956 \n",
      "\n",
      "EPOCH 121: Training Accuracy = 0.999, Validation Accuracy = 0.960 \n",
      "\n",
      "EPOCH 122: Training Accuracy = 0.999, Validation Accuracy = 0.962 \n",
      "\n",
      "EPOCH 123: Training Accuracy = 0.999, Validation Accuracy = 0.962 \n",
      "\n",
      "EPOCH 124: Training Accuracy = 0.999, Validation Accuracy = 0.958 \n",
      "\n",
      "EPOCH 125: Training Accuracy = 0.999, Validation Accuracy = 0.958 \n",
      "\n",
      "EPOCH 126: Training Accuracy = 0.999, Validation Accuracy = 0.960 \n",
      "\n",
      "EPOCH 127: Training Accuracy = 0.999, Validation Accuracy = 0.965 \n",
      "\n",
      "EPOCH 128: Training Accuracy = 0.999, Validation Accuracy = 0.963 \n",
      "\n",
      "EPOCH 129: Training Accuracy = 0.999, Validation Accuracy = 0.957 \n",
      "\n",
      "EPOCH 130: Training Accuracy = 0.999, Validation Accuracy = 0.958 \n",
      "\n",
      "EPOCH 131: Training Accuracy = 0.999, Validation Accuracy = 0.963 \n",
      "\n",
      "EPOCH 132: Training Accuracy = 0.998, Validation Accuracy = 0.960 \n",
      "\n",
      "EPOCH 133: Training Accuracy = 0.999, Validation Accuracy = 0.956 \n",
      "\n",
      "EPOCH 134: Training Accuracy = 0.999, Validation Accuracy = 0.959 \n",
      "\n",
      "EPOCH 135: Training Accuracy = 0.999, Validation Accuracy = 0.957 \n",
      "\n",
      "EPOCH 136: Training Accuracy = 0.999, Validation Accuracy = 0.960 \n",
      "\n",
      "EPOCH 137: Training Accuracy = 0.998, Validation Accuracy = 0.949 \n",
      "\n",
      "EPOCH 138: Training Accuracy = 0.998, Validation Accuracy = 0.964 \n",
      "\n",
      "EPOCH 139: Training Accuracy = 0.999, Validation Accuracy = 0.959 \n",
      "\n",
      "EPOCH 140: Training Accuracy = 0.999, Validation Accuracy = 0.959 \n",
      "\n",
      "EPOCH 141: Training Accuracy = 0.999, Validation Accuracy = 0.964 \n",
      "\n",
      "EPOCH 142: Training Accuracy = 0.999, Validation Accuracy = 0.958 \n",
      "\n",
      "EPOCH 143: Training Accuracy = 0.999, Validation Accuracy = 0.959 \n",
      "\n",
      "EPOCH 144: Training Accuracy = 0.999, Validation Accuracy = 0.962 \n",
      "\n",
      "EPOCH 145: Training Accuracy = 0.999, Validation Accuracy = 0.958 \n",
      "\n",
      "EPOCH 146: Training Accuracy = 0.999, Validation Accuracy = 0.959 \n",
      "\n",
      "EPOCH 147: Training Accuracy = 0.999, Validation Accuracy = 0.959 \n",
      "\n",
      "EPOCH 148: Training Accuracy = 0.999, Validation Accuracy = 0.961 \n",
      "\n",
      "EPOCH 149: Training Accuracy = 0.999, Validation Accuracy = 0.962 \n",
      "\n",
      "EPOCH 150: Training Accuracy = 0.999, Validation Accuracy = 0.957 \n",
      "\n",
      "EPOCH 151: Training Accuracy = 0.999, Validation Accuracy = 0.962 \n",
      "\n",
      "EPOCH 152: Training Accuracy = 0.999, Validation Accuracy = 0.961 \n",
      "\n",
      "EPOCH 153: Training Accuracy = 0.999, Validation Accuracy = 0.956 \n",
      "\n",
      "EPOCH 154: Training Accuracy = 0.999, Validation Accuracy = 0.959 \n",
      "\n",
      "EPOCH 155: Training Accuracy = 0.999, Validation Accuracy = 0.957 \n",
      "\n",
      "EPOCH 156: Training Accuracy = 0.999, Validation Accuracy = 0.959 \n",
      "\n",
      "EPOCH 157: Training Accuracy = 0.999, Validation Accuracy = 0.966 \n",
      "\n",
      "EPOCH 158: Training Accuracy = 0.999, Validation Accuracy = 0.962 \n",
      "\n",
      "EPOCH 159: Training Accuracy = 0.999, Validation Accuracy = 0.951 \n",
      "\n",
      "EPOCH 160: Training Accuracy = 0.999, Validation Accuracy = 0.956 \n",
      "\n",
      "EPOCH 161: Training Accuracy = 0.999, Validation Accuracy = 0.953 \n",
      "\n",
      "EPOCH 162: Training Accuracy = 0.999, Validation Accuracy = 0.944 \n",
      "\n",
      "EPOCH 163: Training Accuracy = 0.999, Validation Accuracy = 0.950 \n",
      "\n",
      "EPOCH 164: Training Accuracy = 0.999, Validation Accuracy = 0.959 \n",
      "\n",
      "EPOCH 165: Training Accuracy = 0.999, Validation Accuracy = 0.953 \n",
      "\n",
      "EPOCH 166: Training Accuracy = 0.999, Validation Accuracy = 0.959 \n",
      "\n",
      "EPOCH 167: Training Accuracy = 0.999, Validation Accuracy = 0.959 \n",
      "\n",
      "EPOCH 168: Training Accuracy = 0.999, Validation Accuracy = 0.956 \n",
      "\n",
      "EPOCH 169: Training Accuracy = 0.999, Validation Accuracy = 0.960 \n",
      "\n",
      "EPOCH 170: Training Accuracy = 0.999, Validation Accuracy = 0.966 \n",
      "\n",
      "EPOCH 171: Training Accuracy = 1.000, Validation Accuracy = 0.960 \n",
      "\n",
      "EPOCH 172: Training Accuracy = 1.000, Validation Accuracy = 0.956 \n",
      "\n",
      "EPOCH 173: Training Accuracy = 0.999, Validation Accuracy = 0.952 \n",
      "\n",
      "EPOCH 174: Training Accuracy = 1.000, Validation Accuracy = 0.957 \n",
      "\n",
      "EPOCH 175: Training Accuracy = 0.999, Validation Accuracy = 0.954 \n",
      "\n",
      "EPOCH 176: Training Accuracy = 0.999, Validation Accuracy = 0.965 \n",
      "\n",
      "EPOCH 177: Training Accuracy = 0.997, Validation Accuracy = 0.953 \n",
      "\n",
      "EPOCH 178: Training Accuracy = 0.999, Validation Accuracy = 0.960 \n",
      "\n",
      "EPOCH 179: Training Accuracy = 0.999, Validation Accuracy = 0.963 \n",
      "\n",
      "EPOCH 180: Training Accuracy = 0.999, Validation Accuracy = 0.951 \n",
      "\n",
      "EPOCH 181: Training Accuracy = 0.999, Validation Accuracy = 0.961 \n",
      "\n",
      "Model saved with Validation Accuracy: 0.9689342401465592\n",
      "EPOCH 182: Training Accuracy = 0.999, Validation Accuracy = 0.969 *\n",
      "\n",
      "EPOCH 183: Training Accuracy = 0.999, Validation Accuracy = 0.957 \n",
      "\n",
      "EPOCH 184: Training Accuracy = 0.998, Validation Accuracy = 0.958 \n",
      "\n",
      "EPOCH 185: Training Accuracy = 0.999, Validation Accuracy = 0.957 \n",
      "\n",
      "EPOCH 186: Training Accuracy = 0.999, Validation Accuracy = 0.959 \n",
      "\n",
      "EPOCH 187: Training Accuracy = 0.999, Validation Accuracy = 0.957 \n",
      "\n",
      "EPOCH 188: Training Accuracy = 0.999, Validation Accuracy = 0.955 \n",
      "\n",
      "EPOCH 189: Training Accuracy = 1.000, Validation Accuracy = 0.965 \n",
      "\n",
      "EPOCH 190: Training Accuracy = 1.000, Validation Accuracy = 0.961 \n",
      "\n",
      "EPOCH 191: Training Accuracy = 0.999, Validation Accuracy = 0.960 \n",
      "\n",
      "EPOCH 192: Training Accuracy = 1.000, Validation Accuracy = 0.965 \n",
      "\n",
      "EPOCH 193: Training Accuracy = 0.999, Validation Accuracy = 0.959 \n",
      "\n",
      "EPOCH 194: Training Accuracy = 1.000, Validation Accuracy = 0.963 \n",
      "\n",
      "EPOCH 195: Training Accuracy = 1.000, Validation Accuracy = 0.960 \n",
      "\n",
      "EPOCH 196: Training Accuracy = 1.000, Validation Accuracy = 0.955 \n",
      "\n",
      "EPOCH 197: Training Accuracy = 1.000, Validation Accuracy = 0.959 \n",
      "\n",
      "EPOCH 198: Training Accuracy = 1.000, Validation Accuracy = 0.956 \n",
      "\n",
      "EPOCH 199: Training Accuracy = 1.000, Validation Accuracy = 0.957 \n",
      "\n",
      "EPOCH 200: Training Accuracy = 1.000, Validation Accuracy = 0.961 \n",
      "\n",
      "Model saved\n",
      "Highest Validation Accuracy = 0.9689342401465592\n"
     ]
    }
   ],
   "source": [
    "with tf.Session() as sess:\n",
    "    sess.run(tf.global_variables_initializer())\n",
    "    num_examples = len(X_train)\n",
    "    \n",
    "    print(\"Training...\")\n",
    "    print()\n",
    "    \n",
    "    model_saved = False\n",
    "    last_validation_accuracy = 0\n",
    "    max_validation_accuracy = 0\n",
    "    target_validation = 0.93\n",
    "    \n",
    "    for i in range(EPOCHS):\n",
    "        X_train, y_train = shuffle(X_train, y_train)\n",
    "        for offset in range(0, num_examples, BATCH_SIZE):\n",
    "            end = offset + BATCH_SIZE\n",
    "            batch_x, batch_y = X_train[offset:end], y_train[offset:end]\n",
    "            sess.run(training_operation, feed_dict={x: batch_x, y: batch_y, keep_prob: 0.5})\n",
    "            \n",
    "        training_accuracy = evaluate(X_train, y_train)\n",
    "        \n",
    "        validation_accuracy = evaluate(X_valid, y_valid)\n",
    "        \n",
    "        max_rec = \"\"\n",
    "            \n",
    "        if validation_accuracy > max_validation_accuracy:\n",
    "            max_validation_accuracy = validation_accuracy\n",
    "            max_rec = \"*\"\n",
    "            \n",
    "            if validation_accuracy > target_validation:\n",
    "                model_saved = True\n",
    "                saver.save(sess, traffic_sign_chkpt)\n",
    "                print(\"Model saved with Validation Accuracy: {}\".format(validation_accuracy))\n",
    "\n",
    "        print(\"EPOCH {}: Training Accuracy = {:.3f}, Validation Accuracy = {:.3f} {}\".format(i+1,training_accuracy,validation_accuracy,max_rec))\n",
    "                \n",
    "        last_validation_accuracy = validation_accuracy\n",
    "\n",
    "        print()\n",
    "        \n",
    "    if not model_saved:\n",
    "        saver.save(sess, traffic_sign_chkpt)\n",
    "    \n",
    "    print(\"Model saved\")\n",
    "    print(\"Highest Validation Accuracy = {}\".format(max_validation_accuracy))"
   ]
  },
  {
   "cell_type": "markdown",
   "metadata": {},
   "source": [
    "### Model Evaluation"
   ]
  },
  {
   "cell_type": "code",
   "execution_count": 28,
   "metadata": {},
   "outputs": [
    {
     "name": "stdout",
     "output_type": "stream",
     "text": [
      "Test Accuracy = 0.950\n"
     ]
    }
   ],
   "source": [
    "with tf.Session() as sess:\n",
    "    saver.restore(sess, traffic_sign_chkpt)\n",
    "\n",
    "    test_accuracy = evaluate(X_test, y_test)\n",
    "    print(\"Test Accuracy = {:.3f}\".format(test_accuracy))"
   ]
  },
  {
   "cell_type": "markdown",
   "metadata": {},
   "source": [
    "---\n",
    "\n",
    "## Step 3: Test a Model on New Images\n",
    "\n",
    "To give yourself more insight into how your model is working, download at least five pictures of German traffic signs from the web and use your model to predict the traffic sign type.\n",
    "\n",
    "You may find `signnames.csv` useful as it contains mappings from the class id (integer) to the actual sign name."
   ]
  },
  {
   "cell_type": "markdown",
   "metadata": {},
   "source": [
    "### Load and Output the Images"
   ]
  },
  {
   "cell_type": "code",
   "execution_count": 29,
   "metadata": {},
   "outputs": [],
   "source": [
    "### Load the images and plot them here.\n",
    "### Feel free to use as many code cells as needed."
   ]
  },
  {
   "cell_type": "code",
   "execution_count": 30,
   "metadata": {},
   "outputs": [],
   "source": [
    "import cv2\n",
    "\n",
    "def read_image(file):\n",
    "    img = cv2.imread(file)\n",
    "    return cv2.cvtColor(img, cv2.COLOR_BGR2RGB)"
   ]
  },
  {
   "cell_type": "code",
   "execution_count": 31,
   "metadata": {},
   "outputs": [
    {
     "name": "stdout",
     "output_type": "stream",
     "text": [
      "New Test Images\n"
     ]
    },
    {
     "data": {
      "image/png": "[encoded data removed]",
      "text/plain": [
       "<matplotlib.figure.Figure at 0x125873cc0>"
      ]
     },
     "metadata": {},
     "output_type": "display_data"
    }
   ],
   "source": [
    "import matplotlib.pyplot as plt\n",
    "%matplotlib inline\n",
    "\n",
    "new_images_set = [\n",
    "    ['new-signs/1.jpg', 28],\n",
    "    ['new-signs/2.jpg', 1],\n",
    "    ['new-signs/3.jpg', 27],\n",
    "    ['new-signs/4.jpg', 14],\n",
    "    ['new-signs/5.jpg', 29]\n",
    "]\n",
    "\n",
    "X_new_test = np.ndarray((len(new_images_set), 32, 32, 3), dtype=np.uint8)\n",
    "y_new_test = np.zeros(len(new_images_set), dtype=np.int)\n",
    "\n",
    "for i, img, in enumerate(new_images_set):\n",
    "    X_new_test[i] = read_image(img[0])\n",
    "    y_new_test[i] = img[1]\n",
    "\n",
    "fig, axs = plt.subplots(nrows=5, ncols=1, figsize=(8, 8))\n",
    "fig.subplots_adjust(hspace = 1, wspace=.5)\n",
    "axs = axs.ravel()\n",
    "\n",
    "print(\"New Test Images\")\n",
    "\n",
    "for i in range(len(new_images_set)):\n",
    "    image = X_new_test[i]\n",
    "    sign_class = y_new_test[i]\n",
    "    \n",
    "    axs[i].axis('off')\n",
    "    axs[i].set_title(\"Image:{} {}\".format(i+1,sign_names[str(sign_class)]))\n",
    "    axs[i].imshow(image)"
   ]
  },
  {
   "cell_type": "markdown",
   "metadata": {},
   "source": [
    "### Predict the Sign Type for Each Image"
   ]
  },
  {
   "cell_type": "code",
   "execution_count": 32,
   "metadata": {},
   "outputs": [],
   "source": [
    "### Run the predictions here and use the model to output the prediction for each image.\n",
    "### Make sure to pre-process the images with the same pre-processing pipeline used earlier.\n",
    "### Feel free to use as many code cells as needed.\n",
    "\n",
    "# Preprocess images\n",
    "X_new_test = normalize_imageset(grayscale_imageset(X_new_test))"
   ]
  },
  {
   "cell_type": "code",
   "execution_count": 33,
   "metadata": {},
   "outputs": [
    {
     "name": "stdout",
     "output_type": "stream",
     "text": [
      "Image 1: prediction = 28, Children crossing, actual = 28, Children crossing\n",
      "Image 2: prediction = 1, Speed limit (30km/h), actual = 1, Speed limit (30km/h)\n",
      "Image 3: prediction = 27, Pedestrians, actual = 27, Pedestrians\n",
      "Image 4: prediction = 14, Stop, actual = 14, Stop\n",
      "Image 5: prediction = 19, Dangerous curve to the left, actual = 29, Bicycles crossing\n"
     ]
    }
   ],
   "source": [
    "softmax_logits = tf.nn.softmax(logits)\n",
    "top_k = tf.nn.top_k(softmax_logits, k=1)\n",
    "\n",
    "with tf.Session() as sess:\n",
    "    saver.restore(sess, traffic_sign_chkpt)\n",
    "    \n",
    "    my_softmax_logits = sess.run(softmax_logits, feed_dict={x: X_new_test, keep_prob: 1.0})\n",
    "    my_top_k = sess.run(top_k, feed_dict={x: X_new_test, keep_prob: 1.0})\n",
    "\n",
    "    for i, image in enumerate(X_new_test):\n",
    "\n",
    "        prediction = my_top_k[1][i][0]\n",
    "        index = np.argwhere(y_valid == prediction)[0]\n",
    "        print('Image {}: prediction = {}, {}, actual = {}, {}'.format(\n",
    "            i+1,prediction,sign_names[str(prediction)],y_new_test[i],sign_names[str(y_new_test[i])] ))\n",
    "      "
   ]
  },
  {
   "cell_type": "markdown",
   "metadata": {},
   "source": [
    "### Analyze Performance"
   ]
  },
  {
   "cell_type": "code",
   "execution_count": 34,
   "metadata": {},
   "outputs": [
    {
     "name": "stdout",
     "output_type": "stream",
     "text": [
      "Test Accuracy = 80.00%\n"
     ]
    }
   ],
   "source": [
    "### Calculate the accuracy for these 5 new images. \n",
    "### For example, if the model predicted 1 out of 5 signs correctly, it's 20% accurate on these new images.\n",
    "\n",
    "with tf.Session() as sess:\n",
    "    saver.restore(sess, traffic_sign_chkpt)\n",
    "    accuracy = sess.run(accuracy_operation, feed_dict={x: X_new_test, y: y_new_test, keep_prob: 1.0})\n",
    "    print(\"Test Accuracy = {:.2f}%\".format(accuracy*100))\n"
   ]
  },
  {
   "cell_type": "markdown",
   "metadata": {},
   "source": [
    "### Output Top 5 Softmax Probabilities For Each Image Found on the Web"
   ]
  },
  {
   "cell_type": "markdown",
   "metadata": {},
   "source": [
    "For each of the new images, print out the model's softmax probabilities to show the **certainty** of the model's predictions (limit the output to the top 5 probabilities for each image). [`tf.nn.top_k`](https://www.tensorflow.org/versions/r0.12/api_docs/python/nn.html#top_k) could prove helpful here. \n",
    "\n",
    "The example below demonstrates how tf.nn.top_k can be used to find the top k predictions for each image.\n",
    "\n",
    "`tf.nn.top_k` will return the values and indices (class ids) of the top k predictions. So if k=3, for each sign, it'll return the 3 largest probabilities (out of a possible 43) and the correspoding class ids.\n",
    "\n",
    "Take this numpy array as an example. The values in the array represent predictions. The array contains softmax probabilities for five candidate images with six possible classes. `tf.nn.top_k` is used to choose the three classes with the highest probability:\n",
    "\n",
    "```\n",
    "# (5, 6) array\n",
    "a = np.array([[ 0.24879643,  0.07032244,  0.12641572,  0.34763842,  0.07893497,\n",
    "         0.12789202],\n",
    "       [ 0.28086119,  0.27569815,  0.08594638,  0.0178669 ,  0.18063401,\n",
    "         0.15899337],\n",
    "       [ 0.26076848,  0.23664738,  0.08020603,  0.07001922,  0.1134371 ,\n",
    "         0.23892179],\n",
    "       [ 0.11943333,  0.29198961,  0.02605103,  0.26234032,  0.1351348 ,\n",
    "         0.16505091],\n",
    "       [ 0.09561176,  0.34396535,  0.0643941 ,  0.16240774,  0.24206137,\n",
    "         0.09155967]])\n",
    "```\n",
    "\n",
    "Running it through `sess.run(tf.nn.top_k(tf.constant(a), k=3))` produces:\n",
    "\n",
    "```\n",
    "TopKV2(values=array([[ 0.34763842,  0.24879643,  0.12789202],\n",
    "       [ 0.28086119,  0.27569815,  0.18063401],\n",
    "       [ 0.26076848,  0.23892179,  0.23664738],\n",
    "       [ 0.29198961,  0.26234032,  0.16505091],\n",
    "       [ 0.34396535,  0.24206137,  0.16240774]]), indices=array([[3, 0, 5],\n",
    "       [0, 1, 4],\n",
    "       [0, 5, 1],\n",
    "       [1, 3, 5],\n",
    "       [1, 4, 3]], dtype=int32))\n",
    "```\n",
    "\n",
    "Looking just at the first row we get `[ 0.34763842,  0.24879643,  0.12789202]`, you can confirm these are the 3 largest probabilities in `a`. You'll also notice `[3, 0, 5]` are the corresponding indices."
   ]
  },
  {
   "cell_type": "code",
   "execution_count": 35,
   "metadata": {},
   "outputs": [
    {
     "name": "stdout",
     "output_type": "stream",
     "text": [
      "Image 1:\n",
      "    guess 1: 28 Children crossing, probability = 100.00000%\n",
      "    guess 2: 35 Ahead only, probability = 0.00000%\n",
      "    guess 3: 11 Right-of-way at the next intersection, probability = 0.00000%\n",
      "    guess 4: 20 Dangerous curve to the right, probability = 0.00000%\n",
      "    guess 5: 0 Speed limit (20km/h), probability = 0.00000%\n",
      "\n",
      "Image 2:\n",
      "    guess 1: 1 Speed limit (30km/h), probability = 100.00000%\n",
      "    guess 2: 2 Speed limit (50km/h), probability = 0.00000%\n",
      "    guess 3: 34 Turn left ahead, probability = 0.00000%\n",
      "    guess 4: 6 End of speed limit (80km/h), probability = 0.00000%\n",
      "    guess 5: 11 Right-of-way at the next intersection, probability = 0.00000%\n",
      "\n",
      "Image 3:\n",
      "    guess 1: 27 Pedestrians, probability = 100.00000%\n",
      "    guess 2: 24 Road narrows on the right, probability = 0.00000%\n",
      "    guess 3: 26 Traffic signals, probability = 0.00000%\n",
      "    guess 4: 18 General caution, probability = 0.00000%\n",
      "    guess 5: 11 Right-of-way at the next intersection, probability = 0.00000%\n",
      "\n",
      "Image 4:\n",
      "    guess 1: 14 Stop, probability = 100.00000%\n",
      "    guess 2: 13 Yield, probability = 0.00000%\n",
      "    guess 3: 34 Turn left ahead, probability = 0.00000%\n",
      "    guess 4: 33 Turn right ahead, probability = 0.00000%\n",
      "    guess 5: 37 Go straight or left, probability = 0.00000%\n",
      "\n",
      "Image 5:\n",
      "    guess 1: 19 Dangerous curve to the left, probability = 64.46027%\n",
      "    guess 2: 28 Children crossing, probability = 28.03570%\n",
      "    guess 3: 29 Bicycles crossing, probability = 4.06098%\n",
      "    guess 4: 23 Slippery road, probability = 1.57000%\n",
      "    guess 5: 39 Keep left, probability = 1.46432%\n",
      "\n"
     ]
    }
   ],
   "source": [
    "### Print out the top five softmax probabilities for the predictions on the German traffic sign images found on the web. \n",
    "### Feel free to use as many code cells as needed.\n",
    "\n",
    "\n",
    "top_count = 5\n",
    "\n",
    "softmax_logits = tf.nn.softmax(logits)\n",
    "top_k = tf.nn.top_k(softmax_logits, k=top_count)\n",
    "\n",
    "with tf.Session() as sess:\n",
    "    saver.restore(sess, traffic_sign_chkpt)\n",
    "    \n",
    "    my_softmax_logits = sess.run(softmax_logits, feed_dict={x: X_new_test, keep_prob: 1.0})\n",
    "    my_top_k = sess.run(top_k, feed_dict={x: X_new_test, keep_prob: 1.0})\n",
    "    \n",
    "    for i, image in enumerate(X_new_test):\n",
    "        print(\"Image {}:\".format(i+1))\n",
    "        for j in range(top_count):\n",
    "            guess = my_top_k[1][i][j]\n",
    "            certainty = my_top_k[0][i][j]\n",
    "            \n",
    "            index = np.argwhere(y_valid == guess)[0]\n",
    "            print(\"    guess {}: {} {}, probability = {:.5f}%\".format(j+1,guess,sign_names[str(guess)],certainty*100))   \n",
    "        print()"
   ]
  },
  {
   "cell_type": "markdown",
   "metadata": {},
   "source": [
    "### Project Writeup\n",
    "\n",
    "Once you have completed the code implementation, document your results in a project writeup using this [template](https://github.com/udacity/CarND-Traffic-Sign-Classifier-Project/blob/master/writeup_template.md) as a guide. The writeup can be in a markdown or pdf file. "
   ]
  },
  {
   "cell_type": "markdown",
   "metadata": {},
   "source": [
    "> **Note**: Once you have completed all of the code implementations and successfully answered each question above, you may finalize your work by exporting the iPython Notebook as an HTML document. You can do this by using the menu above and navigating to  \\n\",\n",
    "    \"**File -> Download as -> HTML (.html)**. Include the finished document along with this notebook as your submission."
   ]
  },
  {
   "cell_type": "markdown",
   "metadata": {},
   "source": [
    "---\n",
    "\n",
    "## Step 4 (Optional): Visualize the Neural Network's State with Test Images\n",
    "\n",
    " This Section is not required to complete but acts as an additional excersise for understaning the output of a neural network's weights. While neural networks can be a great learning device they are often referred to as a black box. We can understand what the weights of a neural network look like better by plotting their feature maps. After successfully training your neural network you can see what it's feature maps look like by plotting the output of the network's weight layers in response to a test stimuli image. From these plotted feature maps, it's possible to see what characteristics of an image the network finds interesting. For a sign, maybe the inner network feature maps react with high activation to the sign's boundary outline or to the contrast in the sign's painted symbol.\n",
    "\n",
    " Provided for you below is the function code that allows you to get the visualization output of any tensorflow weight layer you want. The inputs to the function should be a stimuli image, one used during training or a new one you provided, and then the tensorflow variable name that represents the layer's state during the training process, for instance if you wanted to see what the [LeNet lab's](https://classroom.udacity.com/nanodegrees/nd013/parts/fbf77062-5703-404e-b60c-95b78b2f3f9e/modules/6df7ae49-c61c-4bb2-a23e-6527e69209ec/lessons/601ae704-1035-4287-8b11-e2c2716217ad/concepts/d4aca031-508f-4e0b-b493-e7b706120f81) feature maps looked like for it's second convolutional layer you could enter conv2 as the tf_activation variable.\n",
    "\n",
    "For an example of what feature map outputs look like, check out NVIDIA's results in their paper [End-to-End Deep Learning for Self-Driving Cars](https://devblogs.nvidia.com/parallelforall/deep-learning-self-driving-cars/) in the section Visualization of internal CNN State. NVIDIA was able to show that their network's inner weights had high activations to road boundary lines by comparing feature maps from an image with a clear path to one without. Try experimenting with a similar test to show that your trained network's weights are looking for interesting features, whether it's looking at differences in feature maps from images with or without a sign, or even what feature maps look like in a trained network vs a completely untrained one on the same sign image.\n",
    "\n",
    "<figure>\n",
    " <img src=\"visualize_cnn.png\" width=\"380\" alt=\"Combined Image\" />\n",
    " <figcaption>\n",
    " <p></p> \n",
    " <p style=\"text-align: center;\"> Your output should look something like this (above)</p> \n",
    " </figcaption>\n",
    "</figure>\n",
    " <p></p> \n"
   ]
  },
  {
   "cell_type": "code",
   "execution_count": null,
   "metadata": {},
   "outputs": [],
   "source": [
    "### Visualize your network's feature maps here.\n",
    "### Feel free to use as many code cells as needed.\n",
    "\n",
    "# image_input: the test image being fed into the network to produce the feature maps\n",
    "# tf_activation: should be a tf variable name used during your training procedure that represents the calculated state of a specific weight layer\n",
    "# activation_min/max: can be used to view the activation contrast in more detail, by default matplot sets min and max to the actual min and max values of the output\n",
    "# plt_num: used to plot out multiple different weight feature map sets on the same block, just extend the plt number for each new feature map entry\n",
    "\n",
    "def outputFeatureMap(image_input, tf_activation, activation_min=-1, activation_max=-1 ,plt_num=1):\n",
    "    # Here make sure to preprocess your image_input in a way your network expects\n",
    "    # with size, normalization, ect if needed\n",
    "    # image_input =\n",
    "    # Note: x should be the same name as your network's tensorflow data placeholder variable\n",
    "    # If you get an error tf_activation is not defined it may be having trouble accessing the variable from inside a function\n",
    "    activation = tf_activation.eval(session=sess,feed_dict={x : image_input})\n",
    "    featuremaps = activation.shape[3]\n",
    "    plt.figure(plt_num, figsize=(15,15))\n",
    "    for featuremap in range(featuremaps):\n",
    "        plt.subplot(6,8, featuremap+1) # sets the number of feature maps to show on each row and column\n",
    "        plt.title('FeatureMap ' + str(featuremap)) # displays the feature map number\n",
    "        if activation_min != -1 & activation_max != -1:\n",
    "            plt.imshow(activation[0,:,:, featuremap], interpolation=\"nearest\", vmin =activation_min, vmax=activation_max, cmap=\"gray\")\n",
    "        elif activation_max != -1:\n",
    "            plt.imshow(activation[0,:,:, featuremap], interpolation=\"nearest\", vmax=activation_max, cmap=\"gray\")\n",
    "        elif activation_min !=-1:\n",
    "            plt.imshow(activation[0,:,:, featuremap], interpolation=\"nearest\", vmin=activation_min, cmap=\"gray\")\n",
    "        else:\n",
    "            plt.imshow(activation[0,:,:, featuremap], interpolation=\"nearest\", cmap=\"gray\")"
   ]
  }
 ],
 "metadata": {
  "anaconda-cloud": {},
  "kernelspec": {
   "display_name": "Python 3",
   "language": "python",
   "name": "python3"
  },
  "language_info": {
   "codemirror_mode": {
    "name": "ipython",
    "version": 3
   },
   "file_extension": ".py",
   "mimetype": "text/x-python",
   "name": "python",
   "nbconvert_exporter": "python",
   "pygments_lexer": "ipython3",
   "version": "3.5.2"
  },
  "widgets": {
   "state": {},
   "version": "1.1.2"
  }
 },
 "nbformat": 4,
 "nbformat_minor": 1
}
